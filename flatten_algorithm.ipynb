{
  "nbformat": 4,
  "nbformat_minor": 0,
  "metadata": {
    "colab": {
      "name": "projects.ipynb",
      "provenance": [],
      "toc_visible": true
    },
    "kernelspec": {
      "name": "python3",
      "display_name": "Python 3"
    },
    "language_info": {
      "name": "python"
    }
  },
  "cells": [
    {
      "cell_type": "markdown",
      "source": [
        "# Flatten Function"
      ],
      "metadata": {
        "id": "TuEfEZ_JnwUa"
      }
    },
    {
      "cell_type": "markdown",
      "source": [
        "1- Bir listeyi düzleştiren (flatten) fonksiyon yazın. \n",
        "\n",
        "Elemanları birden çok katmanlı listelerden ([[3],2] gibi) oluşabileceği gibi, non-scalar verilerden de oluşabilir. Örnek olarak:\n",
        "\n",
        "input: [[1,'a',['cat'],2],[[[3]],'dog'],4,5]\n",
        "\n",
        "output: [1,'a','cat',2,3,'dog',4,5]"
      ],
      "metadata": {
        "id": "-mZLoAV4n3V7"
      }
    },
    {
      "cell_type": "markdown",
      "source": [
        "\n",
        "\n",
        "---\n",
        "\n",
        "\n",
        "\n",
        "---\n",
        "\n"
      ],
      "metadata": {
        "id": "5_B0beFOiBgI"
      }
    },
    {
      "cell_type": "code",
      "source": [
        "## flatten irregular list of lists \n",
        "## with generator & yield...\n",
        "\n",
        "def flatten(flat_list):\n",
        "  \n",
        "  for subclass in flat_list:\n",
        "    if isinstance(subclass,list):\n",
        "      yield from flatten(subclass)        ## recursion !!! the important part\n",
        "    else:\n",
        "      yield subclass                      ## yield to memory like return"
      ],
      "metadata": {
        "id": "uCzEGLYEiC1o"
      },
      "execution_count": 23,
      "outputs": []
    },
    {
      "cell_type": "code",
      "source": [
        "flat_list = [[1,'a',['cat'],2],[[[3]],'dog'],4,5]\n",
        "flat_list"
      ],
      "metadata": {
        "colab": {
          "base_uri": "https://localhost:8080/"
        },
        "id": "VO3y3ow7j0K1",
        "outputId": "499d8224-1aa0-4371-b97e-7e7794c3872e"
      },
      "execution_count": 24,
      "outputs": [
        {
          "output_type": "execute_result",
          "data": {
            "text/plain": [
              "[[1, 'a', ['cat'], 2], [[[3]], 'dog'], 4, 5]"
            ]
          },
          "metadata": {},
          "execution_count": 24
        }
      ]
    },
    {
      "cell_type": "code",
      "source": [
        "flatten(flat_list)    "
      ],
      "metadata": {
        "colab": {
          "base_uri": "https://localhost:8080/"
        },
        "id": "jCdPdXZvj2zU",
        "outputId": "4acd855f-d3a2-41b8-d81d-b0f8aad2f395"
      },
      "execution_count": 4,
      "outputs": [
        {
          "output_type": "execute_result",
          "data": {
            "text/plain": [
              "<generator object flatten at 0x7efc7c6608d0>"
            ]
          },
          "metadata": {},
          "execution_count": 4
        }
      ]
    },
    {
      "cell_type": "code",
      "source": [
        "type(flatten(flat_list))"
      ],
      "metadata": {
        "colab": {
          "base_uri": "https://localhost:8080/"
        },
        "id": "cuCEU3hQTV_u",
        "outputId": "665b361f-b50e-4792-b291-c733fbe6c83c"
      },
      "execution_count": 25,
      "outputs": [
        {
          "output_type": "execute_result",
          "data": {
            "text/plain": [
              "generator"
            ]
          },
          "metadata": {},
          "execution_count": 25
        }
      ]
    },
    {
      "cell_type": "code",
      "source": [
        "newflattenlist = list(flatten(flat_list))   ## object from generator\n",
        "print(newflattenlist)"
      ],
      "metadata": {
        "id": "jlCZsBaPmOam",
        "colab": {
          "base_uri": "https://localhost:8080/"
        },
        "outputId": "989d6253-49bd-4a6f-e0ce-bf627bac3481"
      },
      "execution_count": 26,
      "outputs": [
        {
          "output_type": "stream",
          "name": "stdout",
          "text": [
            "[1, 'a', 'cat', 2, 3, 'dog', 4, 5]\n"
          ]
        }
      ]
    },
    {
      "cell_type": "code",
      "source": [
        ""
      ],
      "metadata": {
        "id": "HQo2VTkZlsdQ"
      },
      "execution_count": null,
      "outputs": []
    },
    {
      "cell_type": "markdown",
      "source": [
        "\n",
        "\n",
        "---\n",
        "\n",
        "\n",
        "\n",
        "---\n",
        "\n"
      ],
      "metadata": {
        "id": "Bs9JhEtjTwGP"
      }
    },
    {
      "cell_type": "code",
      "source": [
        "## flatten just 2D array list.\n",
        "nlist = [[2,5],[2,8,'k']]\n",
        "flatten_list = []\n",
        "\n",
        "for i in nlist:\n",
        "  for j in i:\n",
        "    flatten_list.append(j)\n",
        "\n",
        "print(flatten_list)"
      ],
      "metadata": {
        "colab": {
          "base_uri": "https://localhost:8080/"
        },
        "id": "OKc6pCLzpVVt",
        "outputId": "53f6ada3-bbad-4e64-f6ec-e9692e93d490"
      },
      "execution_count": 27,
      "outputs": [
        {
          "output_type": "stream",
          "name": "stdout",
          "text": [
            "[2, 5, 2, 8, 'k']\n"
          ]
        }
      ]
    },
    {
      "cell_type": "code",
      "source": [
        "## flatten numpy array with flatten() func.\n",
        "import numpy as np\n",
        "n = np.array([[5,8],[3,9]])\n",
        "n.flatten()"
      ],
      "metadata": {
        "colab": {
          "base_uri": "https://localhost:8080/"
        },
        "id": "CfYZs6RSohVR",
        "outputId": "65a0d661-bd4f-40b2-86be-d97997bd2f54"
      },
      "execution_count": 22,
      "outputs": [
        {
          "output_type": "execute_result",
          "data": {
            "text/plain": [
              "array([5, 8, 3, 9])"
            ]
          },
          "metadata": {},
          "execution_count": 22
        }
      ]
    },
    {
      "cell_type": "markdown",
      "source": [
        "\n",
        "\n",
        "---\n",
        "\n",
        "\n",
        "\n",
        "---\n",
        "\n"
      ],
      "metadata": {
        "id": "GjF1jHP_j1ez"
      }
    },
    {
      "cell_type": "markdown",
      "source": [
        "## isinstance reminder"
      ],
      "metadata": {
        "id": "mySeoQIPevOw"
      }
    },
    {
      "cell_type": "code",
      "source": [
        "help(isinstance)"
      ],
      "metadata": {
        "colab": {
          "base_uri": "https://localhost:8080/"
        },
        "id": "mZpgSXDzbD7C",
        "outputId": "372d4d66-cb11-43fc-e5e0-eac15ea79972"
      },
      "execution_count": null,
      "outputs": [
        {
          "output_type": "stream",
          "name": "stdout",
          "text": [
            "Help on built-in function isinstance in module builtins:\n",
            "\n",
            "isinstance(obj, class_or_tuple, /)\n",
            "    Return whether an object is an instance of a class or of a subclass thereof.\n",
            "    \n",
            "    A tuple, as in ``isinstance(x, (A, B, ...))``, may be given as the target to\n",
            "    check against. This is equivalent to ``isinstance(x, A) or isinstance(x, B)\n",
            "    or ...`` etc.\n",
            "\n"
          ]
        }
      ]
    },
    {
      "cell_type": "code",
      "source": [
        "## examples of list and tuple\n",
        "x = [2]\n",
        "y = [5,8]\n",
        "k = (21,56)\n",
        "z = [2,[5.8],9,4,[21,23]]"
      ],
      "metadata": {
        "id": "u2zaFA2DtKGH"
      },
      "execution_count": 13,
      "outputs": []
    },
    {
      "cell_type": "code",
      "source": [
        "## to check that is in list or not\n",
        "print(isinstance(x,list))   \n",
        "print(isinstance(y,list))\n",
        "print(isinstance(k,list))"
      ],
      "metadata": {
        "colab": {
          "base_uri": "https://localhost:8080/"
        },
        "id": "v-GCvdnDY4cE",
        "outputId": "5fb6de98-e3a8-4306-9a97-c8bd9f003383"
      },
      "execution_count": 10,
      "outputs": [
        {
          "output_type": "stream",
          "name": "stdout",
          "text": [
            "True\n",
            "True\n",
            "False\n"
          ]
        }
      ]
    },
    {
      "cell_type": "code",
      "source": [
        "help(list)"
      ],
      "metadata": {
        "id": "EJq0pRKIZB3y"
      },
      "execution_count": null,
      "outputs": []
    },
    {
      "cell_type": "code",
      "source": [
        "for num in z:\n",
        "  if isinstance(num,list):\n",
        "    print(\"Yes: \",num)\n",
        "  else:\n",
        "    print(\"No: \",num)"
      ],
      "metadata": {
        "colab": {
          "base_uri": "https://localhost:8080/"
        },
        "id": "inQLXr6VZVAu",
        "outputId": "7a61b9ef-3def-4c6a-b345-a70c973a96de"
      },
      "execution_count": 14,
      "outputs": [
        {
          "output_type": "stream",
          "name": "stdout",
          "text": [
            "No:  2\n",
            "Yes:  [5.8]\n",
            "No:  9\n",
            "No:  4\n",
            "Yes:  [21, 23]\n"
          ]
        }
      ]
    },
    {
      "cell_type": "code",
      "source": [
        "## to check is it tuple or not with isinstance() func.\n",
        "tuple_list = (2,8)\n",
        "isinstance(tuple_list,tuple)"
      ],
      "metadata": {
        "colab": {
          "base_uri": "https://localhost:8080/"
        },
        "id": "9K6wlzVuajzs",
        "outputId": "c76438dd-c177-4e06-8936-a9603910a7ca"
      },
      "execution_count": 15,
      "outputs": [
        {
          "output_type": "execute_result",
          "data": {
            "text/plain": [
              "True"
            ]
          },
          "metadata": {},
          "execution_count": 15
        }
      ]
    },
    {
      "cell_type": "markdown",
      "source": [
        "## generator & yield reminder"
      ],
      "metadata": {
        "id": "nyneF0Jifkjm"
      }
    },
    {
      "cell_type": "code",
      "source": [
        "list_one = [1,2,8,9]\n",
        "def generator_func(l):\n",
        "  for num in list_one:\n",
        "    if num%2 == 0:\n",
        "      yield num\n",
        "    else:\n",
        "      yield False\n",
        "\n",
        "## check to list_one, if is divided with two -> add it to memory (yield num)"
      ],
      "metadata": {
        "id": "GZ631AQzdD4B"
      },
      "execution_count": 16,
      "outputs": []
    },
    {
      "cell_type": "code",
      "source": [
        "g = generator_func(list_one)    ## run to generator"
      ],
      "metadata": {
        "id": "M5mRiQ-mhGe0"
      },
      "execution_count": 17,
      "outputs": []
    },
    {
      "cell_type": "code",
      "source": [
        "next(g)   "
      ],
      "metadata": {
        "colab": {
          "base_uri": "https://localhost:8080/"
        },
        "id": "_X45kbWfhPfa",
        "outputId": "4688f2c3-9153-4c53-97e5-e23467b1cea8"
      },
      "execution_count": 18,
      "outputs": [
        {
          "output_type": "execute_result",
          "data": {
            "text/plain": [
              "False"
            ]
          },
          "metadata": {},
          "execution_count": 18
        }
      ]
    },
    {
      "cell_type": "code",
      "source": [
        "next(g)"
      ],
      "metadata": {
        "colab": {
          "base_uri": "https://localhost:8080/"
        },
        "id": "4pf_MrFwSSD2",
        "outputId": "a016d1ad-3075-4bc0-e3c5-8aefcec67f27"
      },
      "execution_count": 19,
      "outputs": [
        {
          "output_type": "execute_result",
          "data": {
            "text/plain": [
              "2"
            ]
          },
          "metadata": {},
          "execution_count": 19
        }
      ]
    },
    {
      "cell_type": "code",
      "source": [
        "print(list(generator_func(list_one)))"
      ],
      "metadata": {
        "colab": {
          "base_uri": "https://localhost:8080/"
        },
        "id": "T1sfL-iWg4Wf",
        "outputId": "0e51a98c-c004-4609-92c3-8b35e0fc666a"
      },
      "execution_count": 20,
      "outputs": [
        {
          "output_type": "stream",
          "name": "stdout",
          "text": [
            "[False, 2, 8, False]\n"
          ]
        }
      ]
    },
    {
      "cell_type": "code",
      "source": [
        ""
      ],
      "metadata": {
        "id": "SdvjT1hxhDDS"
      },
      "execution_count": null,
      "outputs": []
    }
  ]
}