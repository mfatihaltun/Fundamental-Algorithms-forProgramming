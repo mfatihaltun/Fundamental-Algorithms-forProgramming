{
  "nbformat": 4,
  "nbformat_minor": 0,
  "metadata": {
    "colab": {
      "name": "KurtProblemi.ipynb",
      "provenance": [],
      "collapsed_sections": [],
      "authorship_tag": "ABX9TyNmY4ctVb5GRBkEJ9tFSHw8",
      "include_colab_link": true
    },
    "kernelspec": {
      "name": "python3",
      "display_name": "Python 3"
    },
    "language_info": {
      "name": "python"
    }
  },
  "cells": [
    {
      "cell_type": "markdown",
      "metadata": {
        "id": "view-in-github",
        "colab_type": "text"
      },
      "source": [
        "<a href=\"https://colab.research.google.com/github/mfatihaltun/Fundamental-Algorithms-forProgramming/blob/main/KurtProblemi.ipynb\" target=\"_parent\"><img src=\"https://colab.research.google.com/assets/colab-badge.svg\" alt=\"Open In Colab\"/></a>"
      ]
    },
    {
      "cell_type": "markdown",
      "source": [
        "#Kurt Problemi\n",
        "\n",
        "Her öğenin bir kurt türü ID’sini temsil ettiği bir dizi kurt gözlemi içerisinde, en sık tespit edilen türün en düşük ID’sini belirlemeye çalışalım. \n",
        "\n",
        "> Maksimum sayıya erişen 1'den fazla tür tespit edildiyse, ID’si en küçük olanı döndürmeniz beklenmektedir.\n",
        "\n",
        "\n",
        "**Örnek**\n",
        "\n",
        "dizi = [1,1,2,2,3]\n",
        "\n",
        "\n",
        ">Örnek dizide her birinden 2 defa tespit edilen 2 tür (1 ve 2) ve 1 defa tespit edilen 1 tür (3) bulunuyor. Bunlar arasında en fazla görülen en düşük ID 1’dir.\n",
        "\n",
        "\n",
        "\n",
        "## Fonksiyon Tanımı\n",
        "Bu problem aşağıdaki parametrelere sahiptir:\n",
        "\n",
        "**int dizi[n]:** tespit edilen kurt türleri\n",
        "\n",
        "\n",
        "### Döndürülmesi Beklenen\n",
        "**int:** En çok tespit edilen en düşük ID değeri.\n",
        "\n",
        "## Veri Giriş Formatı\n",
        "\n",
        "**İlk satır,** dizi boyutunda bir tamsayı (n) içerir.\n",
        "\n",
        "**İkinci satır,** diziyi, her biri tespit edilen kurtların bir tür numarası olan boşlukla ayrılmış n tamsayı olarak tanımlar.\n",
        "\n",
        "### Kısıtlamalar\n",
        "> 5 ≤ n ≤ 2 x 105 \n",
        "\n",
        "> Her türün 1,2,3,4 veya 5 olduğu garanti edilir.\n",
        "\n",
        "\n",
        "### Örnek Senaryo\n",
        "\n",
        "11\n",
        "\n",
        "1 2 3 4 5 4 3 2 1 3 4\n",
        "\n",
        "### Beklenen Çıktı\n",
        "\n",
        "3"
      ],
      "metadata": {
        "id": "XdrJXPtkubNe"
      }
    },
    {
      "cell_type": "markdown",
      "source": [
        "\n",
        "\n",
        "---\n",
        "\n",
        "\n",
        "\n",
        "---\n",
        "\n",
        "\n",
        "\n"
      ],
      "metadata": {
        "id": "c4Bn9MDJi4sC"
      }
    },
    {
      "cell_type": "code",
      "source": [
        "def mostCommon(dizi):\n",
        "  \n",
        "  int = max(sorted(set(dizi)), key = dizi.count)\n",
        "  return int\n",
        "\n",
        "if __name__ == '__main__':\n",
        "\n",
        "    n = int(input())\n",
        "    if n > 4 and n < ((2*(10**5))+1):         ## Kısıtlamalar : 5 ≤ n ≤ 2x10**5\n",
        "\n",
        "      dizi = list(map(int, input().split()))\n",
        "      species_list = [1, 2, 3, 4, 5]\n",
        "                              ## Her türün 1,2,3,4 veya 5 olduğu garanti edilir.\n",
        "      for num in range(len(dizi)):      \n",
        "        if dizi[num] in species_list:\n",
        "          continue\n",
        "        else:\n",
        "          print(dizi[num], \"tanımlı tür kümesi içinde değil.\")\n",
        "          break\n",
        "\n",
        "      result = mostCommon(dizi)\n",
        "      print(result)\n",
        "\n",
        "    else:\n",
        "      print(\"n =\",n,\"için n tanımlı aralıkta değildir.\")"
      ],
      "metadata": {
        "colab": {
          "base_uri": "https://localhost:8080/"
        },
        "id": "wE3AK9wHqtAR",
        "outputId": "d68f28d5-152b-40eb-ea54-ebc609a94fe8"
      },
      "execution_count": null,
      "outputs": [
        {
          "output_type": "stream",
          "name": "stdout",
          "text": [
            "11\n",
            "1 2 3 4 5 4 3 2 1 3 4\n",
            "3\n"
          ]
        }
      ]
    },
    {
      "cell_type": "markdown",
      "source": [
        "\n",
        "\n",
        "---\n",
        "\n",
        "\n",
        "\n",
        "---\n",
        "\n"
      ],
      "metadata": {
        "id": "RnpicTCni6Ci"
      }
    }
  ]
}